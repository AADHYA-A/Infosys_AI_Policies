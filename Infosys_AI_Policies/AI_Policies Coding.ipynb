{
 "cells": [
  {
   "cell_type": "code",
   "execution_count": 9,
   "metadata": {
    "id": "47tpe8XvQin1"
   },
   "outputs": [],
   "source": [
    "import pandas as pd\n",
    "\n",
    "# Load CSV file\n",
    "df = pd.read_csv(r\"C:\\Users\\Aadhya\\Downloads\\Infosys_AI_Policies\\updated_data.csv\")\n",
    "\n",
    "# Combine multiple text columns for NLP\n",
    "df['text_for_nlp'] = (\n",
    "    df['scheme_name'].astype(str) + \" \" +\n",
    "    df['details'].astype(str) + \" \" +\n",
    "    df['benefits'].astype(str) + \" \" +\n",
    "    df['eligibility'].astype(str) + \" \" +\n",
    "    df['application'].astype(str) + \" \" +\n",
    "    df['documents'].astype(str)\n",
    ").str.lower()\n"
   ]
  },
  {
   "cell_type": "code",
   "execution_count": 10,
   "metadata": {
    "colab": {
     "base_uri": "https://localhost:8080/"
    },
    "id": "m6-3OCn3A_yv",
    "outputId": "80768666-3fb2-4596-8810-72d12d0c0870"
   },
   "outputs": [
    {
     "data": {
      "text/plain": [
       "['scheme_tfidf_matrix.pkl']"
      ]
     },
     "execution_count": 10,
     "metadata": {},
     "output_type": "execute_result"
    }
   ],
   "source": [
    "# ----------------- TF-IDF Vectorization -----------------\n",
    "from sklearn.feature_extraction.text import TfidfVectorizer\n",
    "import joblib\n",
    "\n",
    "vectorizer = TfidfVectorizer(stop_words=\"english\")\n",
    "tfidf_matrix = vectorizer.fit_transform(df[\"text_for_nlp\"])\n",
    "\n",
    "# Save vectorizer and matrix\n",
    "joblib.dump(vectorizer, \"scheme_vectorizer.pkl\")\n",
    "joblib.dump({\"matrix\": tfidf_matrix, \"df\": df}, \"scheme_tfidf_matrix.pkl\")"
   ]
  },
  {
   "cell_type": "code",
   "execution_count": 11,
   "metadata": {
    "colab": {
     "base_uri": "https://localhost:8080/"
    },
    "id": "xGWFC7H_FP8X",
    "outputId": "16f07df5-9ce1-434f-ac1d-a31e02059f74"
   },
   "outputs": [
    {
     "name": "stdout",
     "output_type": "stream",
     "text": [
      "1. State Merit Scholarship Manipur | 0.60\n",
      " Benefits: For Class X passed students: The scholarship provides Rs. 6,000 per annum to the first 300 students who passed the High School Leaving Certificate Examination (HSLC) conducted by BSEM for a period of two years. For Class XII passed students: The scholarship provides Rs. 12,000 per annum to the first 125 students of Science, 125 students of Social Sciences, and 50 students of Commerce who passed the class XII examination conducted by COHSEM for a period of three years. The scholarship is available to students who continue their studies within or outside the state but within the country, starting from the academic session of 2015-16. The scholarship aims to provide equal opportunities for higher education to deserving students, regardless of their economic background. In addition to the initial list of recipients, 50 students will be kept on the waiting list for possible refusal, ineligibility, or other students getting other scholarships. The scholarship encourages students to excel academically and pursue further studies, thereby promoting higher education in Manipur.\n",
      " Eligibility: Scholarship of Rs. 6000/- per annum is provided to the first 300 students who passed the class X examination conducted by the Board of Secondary Education Manipur for a period of 2 years. Scholarship of Rs. 12000/- per annum is provided to the first 125 students of Science, 125 students of Social Sciences, and 50 students of Commerce who passed the class XII examination conducted by the Council of Higher Secondary Education, Manipur for a period of 3 years. Students in full-time employment are not eligible for the scholarship. Students should not receive any other scholarship/stipend for the same course of study for which they are receiving the said merit scholarship. Candidates who have passed the qualifying examination in a year prior to the year of the award of the scholarship are not eligible for consideration. The scholarship is renewable from year to year within the same stage of education. Good conduct and regularity in attendance are required for the continuance of the scholarship. The scholarship will be canceled if a scholar gives up the chosen course of study before its completion or changes the course of study without the approval of the State Government. The decision of the State Government will be final and binding in all such matters. The scholarship may be renewed for a different course of study if the scholar has shifted to another course instead of continuing with the course for which the scholarship was originally granted. The maximum period of scholarship provided to the meritorious persons passing Class X & XII is 2 years and 3 years, respectively.\n",
      "\n",
      "2. Pre-matric Scholarship For SC Students - Uttarakhand | 0.57\n",
      " Benefits: Students of Classes 1 - 5 will receive Rs. 600/- per annum. Students of Classes 6 - 8 will receive Rs. 960/- per annum. Day scholar students of Classes 9 - 10 will receive Rs. 3,000/- per annum. Hostel living students of Classes 9 - 10 will receive Rs. 6,250/- per annum.\n",
      " Eligibility: The applicant students should be a resident of Uttarakhand state. The applicant students should belong to the Scheduled Caste Category. The applicant students should be studying in a recognized school/institution in the state. The applicant students must have passed the previous year's examination. The Applicant students should not be studying in more than one school in the same academic year. Scholarship applicants should make sure that the name in the scholarship application, the name mentioned in Aadhaar and the name mentioned in the bank account are the same. It is necessary for the applicant student to give his or her guardian's mobile number. The mobile number mentioned in the scholarship application by the student or his/her guardian can be mentioned in the application form by more than one student of the same family.\n",
      "\n",
      "3. BPL Scholarship for College Students | 0.57\n",
      " Benefits: The rate of scholarship for Post Graduate Level (PG) students is ₹500/- per month. The rate of scholarship for Graduate Level (UG) students is ₹300/- per month. The renewal applicants will get a full scholarship i.e. ₹3000 for UG Classes and ₹5000 for PG Classes. Note 01: The scholarship amount is transferred directly to the student's bank account using the Direct Benefit Transfer (DBT) method. Note 02: The students are required to seed the Aadhaar with the bank account.\n",
      " Eligibility: The students of Graduate Level (UG)  & Post Graduate Level (PG) who are studying in any Government college of Chhattisgarh, under the Higher Education Department are eligible to apply under the scheme. The student's guardian should have a BPL Card. The student is not getting the benefit of any other scholarship scheme. The students should pass the annual examination in the first attempt. The student attendance should not be shortened.\n",
      "\n"
     ]
    }
   ],
   "source": [
    "# ----------------- Cosine Similarity Search -----------------\n",
    "from sklearn.metrics.pairwise import cosine_similarity\n",
    "import joblib\n",
    "\n",
    "# Load saved vectorizer and matrix\n",
    "vectorizer = joblib.load(r\"scheme_vectorizer.pkl\")\n",
    "data = joblib.load(r\"scheme_tfidf_matrix.pkl\")\n",
    "tfidf_matrix = data[\"matrix\"]\n",
    "df = data[\"df\"]\n",
    "\n",
    "def query_scheme(question, top_k=3):\n",
    "    query_vec = vectorizer.transform([question.lower()])\n",
    "    sims = cosine_similarity(query_vec, tfidf_matrix).flatten()\n",
    "    top_idx = sims.argsort()[::-1][:top_k]\n",
    "\n",
    "    results = []\n",
    "    for idx in top_idx:\n",
    "        row = df.iloc[idx]\n",
    "        results.append({\n",
    "            \"scheme_name\": row[\"scheme_name\"],\n",
    "            \"benefits\": row[\"benefits\"],\n",
    "            \"eligibility\": row[\"eligibility\"],\n",
    "            \"similarity\": float(sims[idx])\n",
    "        })\n",
    "    return results\n",
    "\n",
    "\n",
    "# ----------------- Example Usage -----------------\n",
    "question = \"scholarship for students\"\n",
    "results = query_scheme(question, top_k=3)\n",
    "\n",
    "if results:\n",
    "    for i, res in enumerate(results, 1):\n",
    "        print(f\"{i}. {res['scheme_name']} | {res['similarity']:.2f}\")\n",
    "        print(f\" Benefits: {res['benefits']}\")\n",
    "        print(f\" Eligibility: {res['eligibility']}\\n\")\n",
    "else:\n",
    "    print(\"No relevant scheme found.\")\n"
   ]
  },
  {
   "cell_type": "code",
   "execution_count": null,
   "metadata": {},
   "outputs": [],
   "source": []
  }
 ],
 "metadata": {
  "colab": {
   "provenance": []
  },
  "kernelspec": {
   "display_name": "Python 3 (ipykernel)",
   "language": "python",
   "name": "python3"
  },
  "language_info": {
   "codemirror_mode": {
    "name": "ipython",
    "version": 3
   },
   "file_extension": ".py",
   "mimetype": "text/x-python",
   "name": "python",
   "nbconvert_exporter": "python",
   "pygments_lexer": "ipython3",
   "version": "3.12.3"
  }
 },
 "nbformat": 4,
 "nbformat_minor": 4
}
